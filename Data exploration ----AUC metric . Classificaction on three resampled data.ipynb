{
 "cells": [
  {
   "cell_type": "code",
   "execution_count": null,
   "metadata": {},
   "outputs": [],
   "source": []
  },
  {
   "cell_type": "raw",
   "metadata": {},
   "source": [
    "'''\n",
    "\n",
    "Predictive Fraud Detection Model: class imbalance problem\n",
    "\n",
    "Date: 07/05/18\n",
    "\n",
    "Author: Annye Braca\n",
    "\n",
    "Email: annyebraca@gmail.com\n",
    "\n",
    "'''\n"
   ]
  },
  {
   "cell_type": "code",
   "execution_count": 131,
   "metadata": {},
   "outputs": [],
   "source": [
    "# Library imports\n",
    "from __future__ import absolute_import, division, print_function\n",
    "import pandas as pd\n",
    "import numpy as np\n",
    "import matplotlib.pyplot as plt\n",
    "from pandas import Series, DataFrame\n",
    "from scipy.stats import spearmanr\n",
    "from pylab import rcParams\n",
    "import sklearn\n",
    "from sklearn.preprocessing import scale \n",
    "from sklearn.linear_model import LogisticRegression\n",
    "from sklearn.cross_validation import train_test_split\n",
    "from sklearn import metrics\n",
    "from sklearn import preprocessing\n",
    "from sklearn import model_selection\n",
    "from sklearn.model_selection import cross_val_score\n",
    "from scipy import stats, integrate\n",
    "import matplotlib.pyplot as plt\n",
    "%matplotlib inline\n",
    "%pylab inline\n",
    "from scipy import stats\n",
    "import seaborn as sns\n",
    "sns.set(color_codes=True)\n",
    "\n",
    "\n",
    "from imblearn.under_sampling import RandomUnderSampler\n",
    "from imblearn.over_sampling import RandomOverSampler\n",
    "from imblearn.over_sampling import SMOTE"
   ]
  },
  {
   "cell_type": "code",
   "execution_count": 121,
   "metadata": {},
   "outputs": [],
   "source": [
    "# Read in data - 6362620 rows × 11 columns\n",
    "data = pd.read_csv('../static/transactions.csv')"
   ]
  },
  {
   "cell_type": "code",
   "execution_count": 123,
   "metadata": {},
   "outputs": [
    {
     "name": "stdout",
     "output_type": "stream",
     "text": [
      "The number of Fraud Transfer are:  4097\n",
      "The number of Fraud Cashout are:  4116\n"
     ]
    }
   ],
   "source": [
    "# Classified as  Fraud\n",
    "FraudulentTransacctions = data[data.isFraud == 1].type.value_counts()\n",
    "FraudTransfer = data.loc[(data.isFraud == 1) & (data.type == 'TRANSFER')]\n",
    "FraudCashout = data.loc[(data.isFraud == 1) & (data.type == 'CASH_OUT')]\n",
    "FraudDebit = data.loc[(data.isFraud == 1) & (data.type == 'DEBIT')] = data.loc[(data.isFraud == 1) & (data.type == 'DEBIT')]\n",
    "FraudTransfer = len(FraudTransfer)\n",
    "FraudCashout = len(FraudCashout)\n",
    "print(\"The number of Fraud Transfer are: \", FraudTransfer)\n",
    "print(\"The number of Fraud Cashout are: \", FraudCashout)"
   ]
  },
  {
   "cell_type": "markdown",
   "metadata": {},
   "source": [
    "# Data Exploration"
   ]
  },
  {
   "cell_type": "code",
   "execution_count": 286,
   "metadata": {},
   "outputs": [
    {
     "name": "stdout",
     "output_type": "stream",
     "text": [
      "The number of Fraud Transfer are:  4097\n",
      "The total number of transactions are:  532909\n"
     ]
    }
   ],
   "source": [
    "# Subset on Transfer as only Transfer and Cash Out contain fraud instances\n",
    "transfer = data[data['type'] ==  'TRANSFER']\n",
    "type_transfer = np.array(pd.DataFrame(transfer, columns=['amount','oldbalanceOrg', 'oldbalanceDest','newbalanceDest','isFraud']))\n",
    "num = len(type_transfer)\n",
    "\n",
    "print(\"The number of Fraud Transfer are: \", FraudTransfer)\n",
    "print (\"The total number of transactions are: \", num)\n",
    "\n"
   ]
  },
  {
   "cell_type": "code",
   "execution_count": 288,
   "metadata": {},
   "outputs": [
    {
     "data": {
      "image/png": "[encoded data removed]",
      "text/plain": [
       "<Figure size 432x288 with 1 Axes>"
      ]
     },
     "metadata": {},
     "output_type": "display_data"
    },
    {
     "data": {
      "text/plain": [
       "<Figure size 720x432 with 0 Axes>"
      ]
     },
     "metadata": {},
     "output_type": "display_data"
    }
   ],
   "source": [
    "\n",
    "\n",
    "labels = 'Fraud', 'Non- Fraud'\n",
    "sizes = [4097,528812]\n",
    "explode = (0, 0.1)  \n",
    "fig1, ax1 = plt.subplots()\n",
    "ax1.pie(sizes, explode=explode, labels=labels, autopct='%1.1f%%',\n",
    "        shadow=True, startangle=90)\n",
    "ax1.axis('equal')  # Equal aspect ratio ensures that pie is drawn as a circle.\n",
    "\n",
    "plt.figure(figsize=(10, 6))\n",
    "\n",
    "\n",
    "plt.show()"
   ]
  },
  {
   "cell_type": "code",
   "execution_count": null,
   "metadata": {},
   "outputs": [],
   "source": []
  },
  {
   "cell_type": "markdown",
   "metadata": {},
   "source": [
    "Data split "
   ]
  },
  {
   "cell_type": "code",
   "execution_count": 148,
   "metadata": {},
   "outputs": [
    {
     "name": "stderr",
     "output_type": "stream",
     "text": [
      "/usr/local/lib/python3.5/dist-packages/ipykernel_launcher.py:3: FutureWarning: reshape is deprecated and will raise in a subsequent release. Please use .values.reshape(...) instead\n",
      "  This is separate from the ipykernel package so we can avoid doing imports until\n"
     ]
    }
   ],
   "source": [
    "X = np.array(pd.DataFrame(transfer, columns=['amount','oldbalanceOrg', 'oldbalanceDest']))\n",
    "f = transfer['isFraud']\n",
    "y = np.array(f.reshape(len(y_transfer), ))"
   ]
  },
  {
   "cell_type": "markdown",
   "metadata": {},
   "source": [
    "# Random under-sampling"
   ]
  },
  {
   "cell_type": "code",
   "execution_count": 149,
   "metadata": {},
   "outputs": [],
   "source": [
    "# Apply the random under-sampling\n",
    "rus = RandomUnderSampler()\n",
    "X_RUS, y_RUS = rus.fit_sample(X, y)\n"
   ]
  },
  {
   "cell_type": "markdown",
   "metadata": {},
   "source": [
    "# Random over-sampling"
   ]
  },
  {
   "cell_type": "code",
   "execution_count": 150,
   "metadata": {},
   "outputs": [],
   "source": [
    "ros = RandomOverSampler()\n",
    "X_ROS, y_ROS = ros.fit_sample(X, y)"
   ]
  },
  {
   "cell_type": "markdown",
   "metadata": {},
   "source": [
    "# SMOTE"
   ]
  },
  {
   "cell_type": "code",
   "execution_count": 151,
   "metadata": {},
   "outputs": [],
   "source": [
    "sm = SMOTE(kind='regular')\n",
    "X_SMOTE, y_SMOTE = sm.fit_sample(X, y)"
   ]
  },
  {
   "cell_type": "markdown",
   "metadata": {},
   "source": [
    "# Dataset visualization under the three sampling techniques"
   ]
  },
  {
   "cell_type": "code",
   "execution_count": 153,
   "metadata": {},
   "outputs": [
    {
     "data": {
      "image/png": "[encoded data removed]",
      "text/plain": [
       "<Figure size 720x432 with 4 Axes>"
      ]
     },
     "metadata": {},
     "output_type": "display_data"
    }
   ],
   "source": [
    "# Original vs resampled subplots\n",
    "plt.figure(figsize=(10, 6))\n",
    "plt.subplot(2,2,1)\n",
    "plt.scatter(X[y==0,0], X[y==0,1], marker='o', color='blue')\n",
    "plt.scatter(X[y==1,0], X[y==1,1], marker='+', color='red')\n",
    "plt.xlabel('x1')\n",
    "plt.ylabel('x2')\n",
    "plt.title('Original: 1=%s and 0=%s' %(y.tolist().count(1), y.tolist().count(0)))\n",
    "\n",
    "plt.subplot(2,2,2)\n",
    "plt.scatter(X_RUS[y_RUS==0,0], X_RUS[y_RUS==0,1], marker='o', color='blue')\n",
    "plt.scatter(X_RUS[y_RUS==1,0], X_RUS[y_RUS==1,1], marker='+', color='red')\n",
    "plt.xlabel('x1')\n",
    "plt.ylabel('y2')\n",
    "plt.title('Random Under-sampling: 1=%s and 0=%s' %(y_RUS.tolist().count(1), y_RUS.tolist().count(0)))                                                                                          \n",
    "\n",
    "plt.subplot(2,2,3)\n",
    "plt.scatter(X_ROS[y_ROS==0,0], X_ROS[y_ROS==0,1], marker='o', color='blue')\n",
    "plt.scatter(X_ROS[y_ROS==1,0], X_ROS[y_ROS==1,1], marker='+', color='red')\n",
    "plt.xlabel('x1')\n",
    "plt.ylabel('x2')\n",
    "plt.title('Random over-sampling: 1=%s and 0=%s' %(y_ROS.tolist().count(1), y_ROS.tolist().count(0)))\n",
    "\n",
    "plt.subplot(2,2,4)\n",
    "plt.scatter(X_SMOTE[y_SMOTE==0,0], X_SMOTE[y_SMOTE==0,1], marker='o', color='blue')\n",
    "plt.scatter(X_SMOTE[y_SMOTE==1,0], X_SMOTE[y_SMOTE==1,1], marker='+', color='red')\n",
    "plt.xlabel('x1')\n",
    "plt.ylabel('y2')\n",
    "plt.title('SMOTE: 1=%s and 0=%s' %(y_SMOTE.tolist().count(1), y_SMOTE.tolist().count(0)))\n",
    "\n",
    "plt.tight_layout()\n",
    "plt.show()"
   ]
  },
  {
   "cell_type": "code",
   "execution_count": 287,
   "metadata": {},
   "outputs": [
    {
     "data": {
      "image/png": "[encoded data removed]",
      "text/plain": [
       "<Figure size 432x288 with 1 Axes>"
      ]
     },
     "metadata": {},
     "output_type": "display_data"
    }
   ],
   "source": [
    "\n",
    "labels = 'Fraud', 'Non- Fraud'\n",
    "sizes = [528812,528812]\n",
    "explode = (0, 0.1)  \n",
    "fig1, ax1 = plt.subplots()\n",
    "ax1.pie(sizes, explode=explode, labels=labels, autopct='%1.1f%%',\n",
    "        shadow=True, startangle=90)\n",
    "ax1.axis('equal')  # Equal aspect ratio ensures that pie is drawn as a circle.\n",
    "\n",
    "plt.show()"
   ]
  },
  {
   "cell_type": "markdown",
   "metadata": {},
   "source": [
    "# Logistic Regression"
   ]
  },
  {
   "cell_type": "code",
   "execution_count": 173,
   "metadata": {},
   "outputs": [
    {
     "name": "stdout",
     "output_type": "stream",
     "text": [
      "Accuracy of logistic regression classifier on test set: 0.99\n"
     ]
    }
   ],
   "source": [
    "\n",
    "logreg = LogisticRegression()\n",
    "logreg.fit(X, y)\n",
    "y_pred = logreg.predict(X_test)\n",
    "print('Accuracy of logistic regression classifier on test set: {:.2f}'.format(logreg.score(X, y)))"
   ]
  },
  {
   "cell_type": "markdown",
   "metadata": {},
   "source": [
    "#  Logistic Regression on various resampling methods and evaluate performance"
   ]
  },
  {
   "cell_type": "code",
   "execution_count": 176,
   "metadata": {},
   "outputs": [],
   "source": [
    "X_RUS_train, X_RUS_test, y_RUS_train, y_RUS_test = train_test_split(X_RUS, y_RUS, test_size=0.3, random_state=2017)\n",
    "X_ROS_train, X_ROS_test, y_ROS_train, y_ROS_test = train_test_split(X_ROS, y_ROS, test_size=0.3, random_state=2017)\n",
    "X_SMOTE_train, X_SMOTE_test, y_SMOTE_train, y_SMOTE_test = train_test_split(X_SMOTE, y_SMOTE, test_size=0.3, random_state=2017)"
   ]
  },
  {
   "cell_type": "code",
   "execution_count": 178,
   "metadata": {},
   "outputs": [],
   "source": [
    "logistic = LogisticRegression()\n",
    "\n",
    "logistic_rus = logistic.fit(X_RUS_train, y_RUS_train)\n",
    "logistic_ros = logistic.fit(X_ROS_train, y_ROS_train)\n",
    "logistic_smote = logistic.fit(X_SMOTE_train, y_SMOTE_train)"
   ]
  },
  {
   "cell_type": "code",
   "execution_count": 217,
   "metadata": {},
   "outputs": [
    {
     "name": "stdout",
     "output_type": "stream",
     "text": [
      "\n",
      "RUS(Random Under-Sampling)- Train AUC :  0.9896079392913776\n",
      "RUS -(Random Under-Sampling) Test AUC :  0.9917503083625814\n",
      "**********************************\n",
      "ROS (Random Over-sampling) - Train AUC :  0.9873947361100551\n",
      "ROS -(Random Over-sampling)Test AUC :  0.9877681478292647\n",
      "**********************************\n",
      "\n",
      "SMOTE (Regular SMOTE) - Train AUC :  0.9875593855955929\n",
      "SMOTE - (Regular SMOTE)Test AUC :  0.9878218338481621\n",
      "**********************************\n"
     ]
    }
   ],
   "source": [
    "# evaluate model performance\n",
    "print (\"\\nRUS(Random Under-Sampling)- Train AUC : \",metrics.roc_auc_score(y_RUS_train, logistic.predict(X_RUS_train)))\n",
    "print (\"RUS -(Random Under-Sampling) Test AUC : \",metrics.roc_auc_score(y_RUS_test, logistic.predict(X_RUS_test)))\n",
    "print(\"**********************************\")\n",
    "\n",
    "print (\"ROS (Random Over-sampling) - Train AUC : \",metrics.roc_auc_score(y_ROS_train, logistic.predict(X_ROS_train)))\n",
    "print (\"ROS -(Random Over-sampling)Test AUC : \",metrics.roc_auc_score(y_ROS_test, logistic.predict(X_ROS_test)))\n",
    "print(\"**********************************\")\n",
    "\n",
    "print(\"\\nSMOTE (Regular SMOTE) - Train AUC : \",metrics.roc_auc_score(y_SMOTE_train, logistic.predict(X_SMOTE_train)))\n",
    "print (\"SMOTE - (Regular SMOTE)Test AUC : \",metrics.roc_auc_score(y_SMOTE_test, logistic.predict(X_SMOTE_test)))\n",
    "print(\"**********************************\")"
   ]
  },
  {
   "cell_type": "markdown",
   "metadata": {},
   "source": [
    "# Decision tree classifier on various resampling methods and evaluate performance"
   ]
  },
  {
   "cell_type": "code",
   "execution_count": 285,
   "metadata": {},
   "outputs": [
    {
     "name": "stdout",
     "output_type": "stream",
     "text": [
      "\n",
      "RUS(Random Under-Sampling)- Train AUC :  0.9861234863040973\n",
      "RUS -(Random Under-Sampling) Test AUC :  0.9860111910471623\n",
      "**********************************\n",
      "ROS (Random Over-sampling) - Train AUC :  0.9861907829122462\n",
      "ROS -(Random Over-sampling)Test AUC :  0.9860424512082313\n",
      "**********************************\n",
      "\n",
      "SMOTE (Regular SMOTE) - Train AUC :  1.0\n",
      "SMOTE - (Regular SMOTE)Test AUC :  0.9720811789119999\n",
      "**********************************\n"
     ]
    }
   ],
   "source": [
    "clf = tree.DecisionTreeClassifier(random_state=201)\n",
    "clf_rus = clf.fit(X_RUS_train, y_RUS_train)\n",
    "clf_ros = clf.fit(X_ROS_train, y_ROS_train)\n",
    "clf_smote = clf.fit(X_SMOTE_train, y_SMOTE_train)                        \n",
    "# evaluate model performance\n",
    "print (\"\\nRUS(Random Under-Sampling)- Train AUC : \",metrics.roc_auc_score(y_RUS_train, clf.predict(X_RUS_train)))\n",
    "print (\"RUS -(Random Under-Sampling) Test AUC : \",metrics.roc_auc_score(y_RUS_test, clf.predict(X_RUS_test)))\n",
    "print(\"**********************************\")\n",
    "\n",
    "print (\"ROS (Random Over-sampling) - Train AUC : \",metrics.roc_auc_score(y_ROS_train, clf.predict(X_ROS_train)))\n",
    "print (\"ROS -(Random Over-sampling)Test AUC : \",metrics.roc_auc_score(y_ROS_test, clf.predict(X_ROS_test)))\n",
    "print(\"**********************************\")\n",
    "\n",
    "print(\"\\nSMOTE (Regular SMOTE) - Train AUC : \",metrics.roc_auc_score(y_SMOTE_train, clf.predict(X_SMOTE_train)))\n",
    "print (\"SMOTE - (Regular SMOTE)Test AUC : \",metrics.roc_auc_score(y_SMOTE_test, clf.predict(X_SMOTE_test)))\n",
    "print(\"**********************************\")"
   ]
  },
  {
   "cell_type": "markdown",
   "metadata": {},
   "source": [
    "# Combining transformers and estimators in a pipeline"
   ]
  },
  {
   "cell_type": "raw",
   "metadata": {},
   "source": [
    "http://scikit-learn.org/stable/modules/pipeline.html"
   ]
  },
  {
   "cell_type": "code",
   "execution_count": 282,
   "metadata": {},
   "outputs": [],
   "source": [
    "from sklearn.pipeline import Pipeline\n",
    "from sklearn.preprocessing import StandardScaler\n",
    "from sklearn.decomposition import PCA\n",
    "pipe_lr = Pipeline([('scl', StandardScaler()),\n",
    "                    ('pca', PCA(n_components=1)),\n",
    "                    ('clf', LogisticRegression(random_state=10))])\n",
    "\n",
    "    "
   ]
  },
  {
   "cell_type": "code",
   "execution_count": 283,
   "metadata": {},
   "outputs": [
    {
     "name": "stdout",
     "output_type": "stream",
     "text": [
      "Test Accuracy: 0.992\n"
     ]
    }
   ],
   "source": [
    "pipe_lr.fit(X_train, y_train)\n",
    "print('Test Accuracy: %.3f' % pipe_lr.score(X_SMOTE_test, y_SMOTE_test))\n",
    "y_pred = pipe_lr.predict(X_SMOTE_test)"
   ]
  },
  {
   "cell_type": "markdown",
   "metadata": {},
   "source": [
    "http://scikit-learn.org/stable/auto_examples/model_selection/plot_learning_curve.html"
   ]
  },
  {
   "cell_type": "code",
   "execution_count": 278,
   "metadata": {},
   "outputs": [
    {
     "data": {
      "image/png": "[encoded data removed]",
      "text/plain": [
       "<Figure size 432x288 with 1 Axes>"
      ]
     },
     "metadata": {},
     "output_type": "display_data"
    }
   ],
   "source": [
    "\n",
    "\n",
    "\n",
    "from sklearn.learning_curve import learning_curve\n",
    "\n",
    "pipe_lr = Pipeline([('scl', StandardScaler()),\n",
    "                    ('clf', LogisticRegression(penalty='l2', random_state=0))])\n",
    "\n",
    "\n",
    "train_sizes, train_scores, test_scores =\\\n",
    "    learning_curve(estimator=pipe_lr,\n",
    "                   X=X_SMOTE_train,\n",
    "                   y=y_SMOTE_train,\n",
    "                   train_sizes=np.linspace(0.1, 1.0, 5),\n",
    "                   cv=None,\n",
    "                   n_jobs=1)\n",
    "    \n",
    "train_mean = np.mean(train_scores, axis=1)\n",
    "train_std = np.std(train_scores, axis=1)\n",
    "test_mean = np.mean(test_scores, axis=1)\n",
    "test_std = np.std(test_scores, axis=1)\n",
    "\n",
    "\n",
    "plt.plot(train_sizes, train_mean,\n",
    "         color='blue', marker='o',\n",
    "         markersize=5, label='training accuracy')\n",
    "\n",
    "plt.fill_between(train_sizes,\n",
    "                 train_mean + train_std,\n",
    "                 train_mean - train_std,\n",
    "                 alpha=0.15, color='blue')\n",
    "\n",
    "plt.plot(train_sizes, test_mean,\n",
    "         color='green', linestyle='--',\n",
    "         marker='s', markersize=5,\n",
    "         label='validation accuracy')\n",
    "\n",
    "plt.fill_between(train_sizes,\n",
    "                 test_mean + test_std,\n",
    "                 test_mean - test_std,\n",
    "                 alpha=0.15, color='green')\n",
    "\n",
    "plt.grid()\n",
    "plt.xlabel('Number of training samples')\n",
    "plt.ylabel('Accuracy')\n",
    "plt.legend(loc='lower right')\n",
    "plt.ylim([0.8, 1.0])\n",
    "\n",
    "plt.show()"
   ]
  },
  {
   "cell_type": "markdown",
   "metadata": {},
   "source": [
    "# K-folds"
   ]
  },
  {
   "cell_type": "code",
   "execution_count": 280,
   "metadata": {},
   "outputs": [
    {
     "name": "stdout",
     "output_type": "stream",
     "text": [
      "10-fold cross validation average accuracy: 0.988\n"
     ]
    }
   ],
   "source": [
    "from sklearn import model_selection\n",
    "from sklearn.model_selection import cross_val_score\n",
    "kfold = model_selection.KFold(n_splits=10, random_state=7)\n",
    "modelCV = LogisticRegression()\n",
    "scoring = 'accuracy'\n",
    "results = model_selection.cross_val_score(modelCV, X_SMOTE_train, y_SMOTE_train, cv=kfold, scoring=scoring)\n",
    "print(\"10-fold cross validation average accuracy: %.3f\" % (results.mean()))"
   ]
  },
  {
   "cell_type": "code",
   "execution_count": null,
   "metadata": {},
   "outputs": [],
   "source": []
  }
 ],
 "metadata": {
  "kernelspec": {
   "display_name": "Python 3",
   "language": "python",
   "name": "python3"
  },
  "language_info": {
   "codemirror_mode": {
    "name": "ipython",
    "version": 3
   },
   "file_extension": ".py",
   "mimetype": "text/x-python",
   "name": "python",
   "nbconvert_exporter": "python",
   "pygments_lexer": "ipython3",
   "version": "3.5.2"
  }
 },
 "nbformat": 4,
 "nbformat_minor": 2
}
